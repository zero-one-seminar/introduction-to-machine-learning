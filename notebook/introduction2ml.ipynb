{
 "cells": [
  {
   "attachments": {},
   "cell_type": "markdown",
   "metadata": {},
   "source": [
    "【親展】ようこそ、ネットワーク・AIのブラックボックスの中へ\n",
    "# AI編\n",
    "\n",
    "[![Open In Colab](https://colab.research.google.com/assets/colab-badge.svg)](https://colab.research.google.com/github/zero-one-seminar/introduction-to-machine-learning/blob/main/introduction2ml.ipynb)\n",
    "（このノートブックを開く）\n"
   ]
  }
 ],
 "metadata": {
  "language_info": {
   "name": "python"
  },
  "orig_nbformat": 4
 },
 "nbformat": 4,
 "nbformat_minor": 2
}
